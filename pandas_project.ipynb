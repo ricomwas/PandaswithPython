{
  "nbformat": 4,
  "nbformat_minor": 0,
  "metadata": {
    "colab": {
      "name": "pandas-project.ipynb",
      "provenance": [],
      "collapsed_sections": [],
      "authorship_tag": "ABX9TyMxkBxj/ZN44nJfrN+BbVpG",
      "include_colab_link": true
    },
    "kernelspec": {
      "name": "python3",
      "display_name": "Python 3"
    }
  },
  "cells": [
    {
      "cell_type": "markdown",
      "metadata": {
        "id": "view-in-github",
        "colab_type": "text"
      },
      "source": [
        "<a href=\"https://colab.research.google.com/github/ricomwas/PandaswithPython/blob/master/pandas_project.ipynb\" target=\"_parent\"><img src=\"https://colab.research.google.com/assets/colab-badge.svg\" alt=\"Open In Colab\"/></a>"
      ]
    },
    {
      "cell_type": "code",
      "metadata": {
        "colab": {
          "base_uri": "https://localhost:8080/"
        },
        "id": "zyfQN2Vfm6f_",
        "outputId": "62c85939-5cfa-4331-cbf3-ed5d65078b3e"
      },
      "source": [
        "import requests\n",
        "\n",
        "download_url = \"https://raw.githubusercontent.com/fivethirtyeight/data/master/nba-elo/nbaallelo.csv\"\n",
        "target_csv_path = \"nba_all_elo.csv\"\n",
        "\n",
        "response = requests.get(download_url)\n",
        "response.raise_for_status()\n",
        "with open(target_csv_path, \"wb\") as f:\n",
        "  f.write(response.content)\n",
        "print(\"Download ready\")"
      ],
      "execution_count": 2,
      "outputs": [
        {
          "output_type": "stream",
          "text": [
            "Download ready\n"
          ],
          "name": "stdout"
        }
      ]
    },
    {
      "cell_type": "code",
      "metadata": {
        "colab": {
          "base_uri": "https://localhost:8080/"
        },
        "id": "gSX7u7MPnQiB",
        "outputId": "6ff07b0a-a099-43b4-87b6-f8c79be22f89"
      },
      "source": [
        "import pandas as pd\n",
        "\n",
        "nba = pd.read_csv('nba_all_elo.csv')\n",
        "type(nba)"
      ],
      "execution_count": 3,
      "outputs": [
        {
          "output_type": "execute_result",
          "data": {
            "text/plain": [
              "pandas.core.frame.DataFrame"
            ]
          },
          "metadata": {
            "tags": []
          },
          "execution_count": 3
        }
      ]
    },
    {
      "cell_type": "markdown",
      "metadata": {
        "id": "n3-SNWqlqFeO"
      },
      "source": [
        "This is to determine the no of rows"
      ]
    },
    {
      "cell_type": "code",
      "metadata": {
        "colab": {
          "base_uri": "https://localhost:8080/"
        },
        "id": "x_DOEm62o0GR",
        "outputId": "86ce97a9-6492-4dc3-896b-7f6ab51f850f"
      },
      "source": [
        "len(nba)"
      ],
      "execution_count": 4,
      "outputs": [
        {
          "output_type": "execute_result",
          "data": {
            "text/plain": [
              "126314"
            ]
          },
          "metadata": {
            "tags": []
          },
          "execution_count": 4
        }
      ]
    },
    {
      "cell_type": "markdown",
      "metadata": {
        "id": "GnFxBJ9Yp20J"
      },
      "source": [
        "Checking your data dimensionality"
      ]
    },
    {
      "cell_type": "code",
      "metadata": {
        "colab": {
          "base_uri": "https://localhost:8080/"
        },
        "id": "W4HJAg_QpaL8",
        "outputId": "dbe3d24d-4106-4642-a65c-f3c87eb30a39"
      },
      "source": [
        "nba.shape"
      ],
      "execution_count": 5,
      "outputs": [
        {
          "output_type": "execute_result",
          "data": {
            "text/plain": [
              "(126314, 23)"
            ]
          },
          "metadata": {
            "tags": []
          },
          "execution_count": 5
        }
      ]
    },
    {
      "cell_type": "markdown",
      "metadata": {
        "id": "3pGhOY6BpyKL"
      },
      "source": [
        "Displaying the 1st 5 rows"
      ]
    },
    {
      "cell_type": "code",
      "metadata": {
        "colab": {
          "base_uri": "https://localhost:8080/",
          "height": 211
        },
        "id": "jjffcQz4pgu4",
        "outputId": "c9cb1f09-cfbd-49fa-83b4-0697052ef0ed"
      },
      "source": [
        "nba.head()"
      ],
      "execution_count": 6,
      "outputs": [
        {
          "output_type": "execute_result",
          "data": {
            "text/html": [
              "<div>\n",
              "<style scoped>\n",
              "    .dataframe tbody tr th:only-of-type {\n",
              "        vertical-align: middle;\n",
              "    }\n",
              "\n",
              "    .dataframe tbody tr th {\n",
              "        vertical-align: top;\n",
              "    }\n",
              "\n",
              "    .dataframe thead th {\n",
              "        text-align: right;\n",
              "    }\n",
              "</style>\n",
              "<table border=\"1\" class=\"dataframe\">\n",
              "  <thead>\n",
              "    <tr style=\"text-align: right;\">\n",
              "      <th></th>\n",
              "      <th>gameorder</th>\n",
              "      <th>game_id</th>\n",
              "      <th>lg_id</th>\n",
              "      <th>_iscopy</th>\n",
              "      <th>year_id</th>\n",
              "      <th>date_game</th>\n",
              "      <th>seasongame</th>\n",
              "      <th>is_playoffs</th>\n",
              "      <th>team_id</th>\n",
              "      <th>fran_id</th>\n",
              "      <th>pts</th>\n",
              "      <th>elo_i</th>\n",
              "      <th>elo_n</th>\n",
              "      <th>win_equiv</th>\n",
              "      <th>opp_id</th>\n",
              "      <th>opp_fran</th>\n",
              "      <th>opp_pts</th>\n",
              "      <th>opp_elo_i</th>\n",
              "      <th>opp_elo_n</th>\n",
              "      <th>game_location</th>\n",
              "      <th>game_result</th>\n",
              "      <th>forecast</th>\n",
              "      <th>notes</th>\n",
              "    </tr>\n",
              "  </thead>\n",
              "  <tbody>\n",
              "    <tr>\n",
              "      <th>0</th>\n",
              "      <td>1</td>\n",
              "      <td>194611010TRH</td>\n",
              "      <td>NBA</td>\n",
              "      <td>0</td>\n",
              "      <td>1947</td>\n",
              "      <td>11/1/1946</td>\n",
              "      <td>1</td>\n",
              "      <td>0</td>\n",
              "      <td>TRH</td>\n",
              "      <td>Huskies</td>\n",
              "      <td>66</td>\n",
              "      <td>1300.0000</td>\n",
              "      <td>1293.2767</td>\n",
              "      <td>40.294830</td>\n",
              "      <td>NYK</td>\n",
              "      <td>Knicks</td>\n",
              "      <td>68</td>\n",
              "      <td>1300.0000</td>\n",
              "      <td>1306.7233</td>\n",
              "      <td>H</td>\n",
              "      <td>L</td>\n",
              "      <td>0.640065</td>\n",
              "      <td>NaN</td>\n",
              "    </tr>\n",
              "    <tr>\n",
              "      <th>1</th>\n",
              "      <td>1</td>\n",
              "      <td>194611010TRH</td>\n",
              "      <td>NBA</td>\n",
              "      <td>1</td>\n",
              "      <td>1947</td>\n",
              "      <td>11/1/1946</td>\n",
              "      <td>1</td>\n",
              "      <td>0</td>\n",
              "      <td>NYK</td>\n",
              "      <td>Knicks</td>\n",
              "      <td>68</td>\n",
              "      <td>1300.0000</td>\n",
              "      <td>1306.7233</td>\n",
              "      <td>41.705170</td>\n",
              "      <td>TRH</td>\n",
              "      <td>Huskies</td>\n",
              "      <td>66</td>\n",
              "      <td>1300.0000</td>\n",
              "      <td>1293.2767</td>\n",
              "      <td>A</td>\n",
              "      <td>W</td>\n",
              "      <td>0.359935</td>\n",
              "      <td>NaN</td>\n",
              "    </tr>\n",
              "    <tr>\n",
              "      <th>2</th>\n",
              "      <td>2</td>\n",
              "      <td>194611020CHS</td>\n",
              "      <td>NBA</td>\n",
              "      <td>0</td>\n",
              "      <td>1947</td>\n",
              "      <td>11/2/1946</td>\n",
              "      <td>1</td>\n",
              "      <td>0</td>\n",
              "      <td>CHS</td>\n",
              "      <td>Stags</td>\n",
              "      <td>63</td>\n",
              "      <td>1300.0000</td>\n",
              "      <td>1309.6521</td>\n",
              "      <td>42.012257</td>\n",
              "      <td>NYK</td>\n",
              "      <td>Knicks</td>\n",
              "      <td>47</td>\n",
              "      <td>1306.7233</td>\n",
              "      <td>1297.0712</td>\n",
              "      <td>H</td>\n",
              "      <td>W</td>\n",
              "      <td>0.631101</td>\n",
              "      <td>NaN</td>\n",
              "    </tr>\n",
              "    <tr>\n",
              "      <th>3</th>\n",
              "      <td>2</td>\n",
              "      <td>194611020CHS</td>\n",
              "      <td>NBA</td>\n",
              "      <td>1</td>\n",
              "      <td>1947</td>\n",
              "      <td>11/2/1946</td>\n",
              "      <td>2</td>\n",
              "      <td>0</td>\n",
              "      <td>NYK</td>\n",
              "      <td>Knicks</td>\n",
              "      <td>47</td>\n",
              "      <td>1306.7233</td>\n",
              "      <td>1297.0712</td>\n",
              "      <td>40.692783</td>\n",
              "      <td>CHS</td>\n",
              "      <td>Stags</td>\n",
              "      <td>63</td>\n",
              "      <td>1300.0000</td>\n",
              "      <td>1309.6521</td>\n",
              "      <td>A</td>\n",
              "      <td>L</td>\n",
              "      <td>0.368899</td>\n",
              "      <td>NaN</td>\n",
              "    </tr>\n",
              "    <tr>\n",
              "      <th>4</th>\n",
              "      <td>3</td>\n",
              "      <td>194611020DTF</td>\n",
              "      <td>NBA</td>\n",
              "      <td>0</td>\n",
              "      <td>1947</td>\n",
              "      <td>11/2/1946</td>\n",
              "      <td>1</td>\n",
              "      <td>0</td>\n",
              "      <td>DTF</td>\n",
              "      <td>Falcons</td>\n",
              "      <td>33</td>\n",
              "      <td>1300.0000</td>\n",
              "      <td>1279.6189</td>\n",
              "      <td>38.864048</td>\n",
              "      <td>WSC</td>\n",
              "      <td>Capitols</td>\n",
              "      <td>50</td>\n",
              "      <td>1300.0000</td>\n",
              "      <td>1320.3811</td>\n",
              "      <td>H</td>\n",
              "      <td>L</td>\n",
              "      <td>0.640065</td>\n",
              "      <td>NaN</td>\n",
              "    </tr>\n",
              "  </tbody>\n",
              "</table>\n",
              "</div>"
            ],
            "text/plain": [
              "   gameorder       game_id lg_id  ...  game_result  forecast notes\n",
              "0          1  194611010TRH   NBA  ...            L  0.640065   NaN\n",
              "1          1  194611010TRH   NBA  ...            W  0.359935   NaN\n",
              "2          2  194611020CHS   NBA  ...            W  0.631101   NaN\n",
              "3          2  194611020CHS   NBA  ...            L  0.368899   NaN\n",
              "4          3  194611020DTF   NBA  ...            L  0.640065   NaN\n",
              "\n",
              "[5 rows x 23 columns]"
            ]
          },
          "metadata": {
            "tags": []
          },
          "execution_count": 6
        }
      ]
    },
    {
      "cell_type": "markdown",
      "metadata": {
        "id": "06F5OrctrEVi"
      },
      "source": [
        "Displaying the last 3 rows"
      ]
    },
    {
      "cell_type": "code",
      "metadata": {
        "colab": {
          "base_uri": "https://localhost:8080/",
          "height": 153
        },
        "id": "Luh5KYidrICh",
        "outputId": "21fa1d8a-a693-46a4-92df-e91baafc90f1"
      },
      "source": [
        "nba.tail(3)"
      ],
      "execution_count": 7,
      "outputs": [
        {
          "output_type": "execute_result",
          "data": {
            "text/html": [
              "<div>\n",
              "<style scoped>\n",
              "    .dataframe tbody tr th:only-of-type {\n",
              "        vertical-align: middle;\n",
              "    }\n",
              "\n",
              "    .dataframe tbody tr th {\n",
              "        vertical-align: top;\n",
              "    }\n",
              "\n",
              "    .dataframe thead th {\n",
              "        text-align: right;\n",
              "    }\n",
              "</style>\n",
              "<table border=\"1\" class=\"dataframe\">\n",
              "  <thead>\n",
              "    <tr style=\"text-align: right;\">\n",
              "      <th></th>\n",
              "      <th>gameorder</th>\n",
              "      <th>game_id</th>\n",
              "      <th>lg_id</th>\n",
              "      <th>_iscopy</th>\n",
              "      <th>year_id</th>\n",
              "      <th>date_game</th>\n",
              "      <th>seasongame</th>\n",
              "      <th>is_playoffs</th>\n",
              "      <th>team_id</th>\n",
              "      <th>fran_id</th>\n",
              "      <th>pts</th>\n",
              "      <th>elo_i</th>\n",
              "      <th>elo_n</th>\n",
              "      <th>win_equiv</th>\n",
              "      <th>opp_id</th>\n",
              "      <th>opp_fran</th>\n",
              "      <th>opp_pts</th>\n",
              "      <th>opp_elo_i</th>\n",
              "      <th>opp_elo_n</th>\n",
              "      <th>game_location</th>\n",
              "      <th>game_result</th>\n",
              "      <th>forecast</th>\n",
              "      <th>notes</th>\n",
              "    </tr>\n",
              "  </thead>\n",
              "  <tbody>\n",
              "    <tr>\n",
              "      <th>126311</th>\n",
              "      <td>63156</td>\n",
              "      <td>201506140GSW</td>\n",
              "      <td>NBA</td>\n",
              "      <td>1</td>\n",
              "      <td>2015</td>\n",
              "      <td>6/14/2015</td>\n",
              "      <td>101</td>\n",
              "      <td>1</td>\n",
              "      <td>CLE</td>\n",
              "      <td>Cavaliers</td>\n",
              "      <td>91</td>\n",
              "      <td>1704.3949</td>\n",
              "      <td>1700.7391</td>\n",
              "      <td>60.010067</td>\n",
              "      <td>GSW</td>\n",
              "      <td>Warriors</td>\n",
              "      <td>104</td>\n",
              "      <td>1809.9791</td>\n",
              "      <td>1813.6349</td>\n",
              "      <td>A</td>\n",
              "      <td>L</td>\n",
              "      <td>0.234435</td>\n",
              "      <td>NaN</td>\n",
              "    </tr>\n",
              "    <tr>\n",
              "      <th>126312</th>\n",
              "      <td>63157</td>\n",
              "      <td>201506170CLE</td>\n",
              "      <td>NBA</td>\n",
              "      <td>0</td>\n",
              "      <td>2015</td>\n",
              "      <td>6/16/2015</td>\n",
              "      <td>102</td>\n",
              "      <td>1</td>\n",
              "      <td>CLE</td>\n",
              "      <td>Cavaliers</td>\n",
              "      <td>97</td>\n",
              "      <td>1700.7391</td>\n",
              "      <td>1692.0859</td>\n",
              "      <td>59.290245</td>\n",
              "      <td>GSW</td>\n",
              "      <td>Warriors</td>\n",
              "      <td>105</td>\n",
              "      <td>1813.6349</td>\n",
              "      <td>1822.2881</td>\n",
              "      <td>H</td>\n",
              "      <td>L</td>\n",
              "      <td>0.481450</td>\n",
              "      <td>NaN</td>\n",
              "    </tr>\n",
              "    <tr>\n",
              "      <th>126313</th>\n",
              "      <td>63157</td>\n",
              "      <td>201506170CLE</td>\n",
              "      <td>NBA</td>\n",
              "      <td>1</td>\n",
              "      <td>2015</td>\n",
              "      <td>6/16/2015</td>\n",
              "      <td>103</td>\n",
              "      <td>1</td>\n",
              "      <td>GSW</td>\n",
              "      <td>Warriors</td>\n",
              "      <td>105</td>\n",
              "      <td>1813.6349</td>\n",
              "      <td>1822.2881</td>\n",
              "      <td>68.519516</td>\n",
              "      <td>CLE</td>\n",
              "      <td>Cavaliers</td>\n",
              "      <td>97</td>\n",
              "      <td>1700.7391</td>\n",
              "      <td>1692.0859</td>\n",
              "      <td>A</td>\n",
              "      <td>W</td>\n",
              "      <td>0.518550</td>\n",
              "      <td>NaN</td>\n",
              "    </tr>\n",
              "  </tbody>\n",
              "</table>\n",
              "</div>"
            ],
            "text/plain": [
              "        gameorder       game_id lg_id  ...  game_result  forecast notes\n",
              "126311      63156  201506140GSW   NBA  ...            L  0.234435   NaN\n",
              "126312      63157  201506170CLE   NBA  ...            L  0.481450   NaN\n",
              "126313      63157  201506170CLE   NBA  ...            W  0.518550   NaN\n",
              "\n",
              "[3 rows x 23 columns]"
            ]
          },
          "metadata": {
            "tags": []
          },
          "execution_count": 7
        }
      ]
    },
    {
      "cell_type": "markdown",
      "metadata": {
        "id": "ZW5efwCEwk3O"
      },
      "source": [
        "Displaying different datatypes"
      ]
    },
    {
      "cell_type": "code",
      "metadata": {
        "colab": {
          "base_uri": "https://localhost:8080/"
        },
        "id": "r3WQRaXvwrgd",
        "outputId": "d30e5c47-dd2c-4ccc-a27e-c9ea526eed05"
      },
      "source": [
        "nba.info()"
      ],
      "execution_count": 8,
      "outputs": [
        {
          "output_type": "stream",
          "text": [
            "<class 'pandas.core.frame.DataFrame'>\n",
            "RangeIndex: 126314 entries, 0 to 126313\n",
            "Data columns (total 23 columns):\n",
            " #   Column         Non-Null Count   Dtype  \n",
            "---  ------         --------------   -----  \n",
            " 0   gameorder      126314 non-null  int64  \n",
            " 1   game_id        126314 non-null  object \n",
            " 2   lg_id          126314 non-null  object \n",
            " 3   _iscopy        126314 non-null  int64  \n",
            " 4   year_id        126314 non-null  int64  \n",
            " 5   date_game      126314 non-null  object \n",
            " 6   seasongame     126314 non-null  int64  \n",
            " 7   is_playoffs    126314 non-null  int64  \n",
            " 8   team_id        126314 non-null  object \n",
            " 9   fran_id        126314 non-null  object \n",
            " 10  pts            126314 non-null  int64  \n",
            " 11  elo_i          126314 non-null  float64\n",
            " 12  elo_n          126314 non-null  float64\n",
            " 13  win_equiv      126314 non-null  float64\n",
            " 14  opp_id         126314 non-null  object \n",
            " 15  opp_fran       126314 non-null  object \n",
            " 16  opp_pts        126314 non-null  int64  \n",
            " 17  opp_elo_i      126314 non-null  float64\n",
            " 18  opp_elo_n      126314 non-null  float64\n",
            " 19  game_location  126314 non-null  object \n",
            " 20  game_result    126314 non-null  object \n",
            " 21  forecast       126314 non-null  float64\n",
            " 22  notes          5424 non-null    object \n",
            "dtypes: float64(6), int64(7), object(10)\n",
            "memory usage: 22.2+ MB\n"
          ],
          "name": "stdout"
        }
      ]
    },
    {
      "cell_type": "markdown",
      "metadata": {
        "id": "F0Udp2KOyNPj"
      },
      "source": [
        "Descriptive statics for all numeric columns"
      ]
    },
    {
      "cell_type": "code",
      "metadata": {
        "colab": {
          "base_uri": "https://localhost:8080/",
          "height": 277
        },
        "id": "5nJH4oSMyT_b",
        "outputId": "d224d676-f450-41cf-bde9-b6cb66e53d1b"
      },
      "source": [
        "nba.describe()"
      ],
      "execution_count": 9,
      "outputs": [
        {
          "output_type": "execute_result",
          "data": {
            "text/html": [
              "<div>\n",
              "<style scoped>\n",
              "    .dataframe tbody tr th:only-of-type {\n",
              "        vertical-align: middle;\n",
              "    }\n",
              "\n",
              "    .dataframe tbody tr th {\n",
              "        vertical-align: top;\n",
              "    }\n",
              "\n",
              "    .dataframe thead th {\n",
              "        text-align: right;\n",
              "    }\n",
              "</style>\n",
              "<table border=\"1\" class=\"dataframe\">\n",
              "  <thead>\n",
              "    <tr style=\"text-align: right;\">\n",
              "      <th></th>\n",
              "      <th>gameorder</th>\n",
              "      <th>_iscopy</th>\n",
              "      <th>year_id</th>\n",
              "      <th>seasongame</th>\n",
              "      <th>is_playoffs</th>\n",
              "      <th>pts</th>\n",
              "      <th>elo_i</th>\n",
              "      <th>elo_n</th>\n",
              "      <th>win_equiv</th>\n",
              "      <th>opp_pts</th>\n",
              "      <th>opp_elo_i</th>\n",
              "      <th>opp_elo_n</th>\n",
              "      <th>forecast</th>\n",
              "    </tr>\n",
              "  </thead>\n",
              "  <tbody>\n",
              "    <tr>\n",
              "      <th>count</th>\n",
              "      <td>126314.000000</td>\n",
              "      <td>126314.000000</td>\n",
              "      <td>126314.000000</td>\n",
              "      <td>126314.000000</td>\n",
              "      <td>126314.000000</td>\n",
              "      <td>126314.000000</td>\n",
              "      <td>126314.000000</td>\n",
              "      <td>126314.000000</td>\n",
              "      <td>126314.000000</td>\n",
              "      <td>126314.000000</td>\n",
              "      <td>126314.000000</td>\n",
              "      <td>126314.000000</td>\n",
              "      <td>126314.000000</td>\n",
              "    </tr>\n",
              "    <tr>\n",
              "      <th>mean</th>\n",
              "      <td>31579.000000</td>\n",
              "      <td>0.500000</td>\n",
              "      <td>1988.200374</td>\n",
              "      <td>43.533733</td>\n",
              "      <td>0.063857</td>\n",
              "      <td>102.729982</td>\n",
              "      <td>1495.236055</td>\n",
              "      <td>1495.236055</td>\n",
              "      <td>41.707889</td>\n",
              "      <td>102.729982</td>\n",
              "      <td>1495.236055</td>\n",
              "      <td>1495.236055</td>\n",
              "      <td>0.500000</td>\n",
              "    </tr>\n",
              "    <tr>\n",
              "      <th>std</th>\n",
              "      <td>18231.927643</td>\n",
              "      <td>0.500002</td>\n",
              "      <td>17.582309</td>\n",
              "      <td>25.375178</td>\n",
              "      <td>0.244499</td>\n",
              "      <td>14.814845</td>\n",
              "      <td>112.139945</td>\n",
              "      <td>112.461687</td>\n",
              "      <td>10.627332</td>\n",
              "      <td>14.814845</td>\n",
              "      <td>112.139945</td>\n",
              "      <td>112.461687</td>\n",
              "      <td>0.215252</td>\n",
              "    </tr>\n",
              "    <tr>\n",
              "      <th>min</th>\n",
              "      <td>1.000000</td>\n",
              "      <td>0.000000</td>\n",
              "      <td>1947.000000</td>\n",
              "      <td>1.000000</td>\n",
              "      <td>0.000000</td>\n",
              "      <td>0.000000</td>\n",
              "      <td>1091.644500</td>\n",
              "      <td>1085.774400</td>\n",
              "      <td>10.152501</td>\n",
              "      <td>0.000000</td>\n",
              "      <td>1091.644500</td>\n",
              "      <td>1085.774400</td>\n",
              "      <td>0.020447</td>\n",
              "    </tr>\n",
              "    <tr>\n",
              "      <th>25%</th>\n",
              "      <td>15790.000000</td>\n",
              "      <td>0.000000</td>\n",
              "      <td>1975.000000</td>\n",
              "      <td>22.000000</td>\n",
              "      <td>0.000000</td>\n",
              "      <td>93.000000</td>\n",
              "      <td>1417.237975</td>\n",
              "      <td>1416.994900</td>\n",
              "      <td>34.103035</td>\n",
              "      <td>93.000000</td>\n",
              "      <td>1417.237975</td>\n",
              "      <td>1416.994900</td>\n",
              "      <td>0.327989</td>\n",
              "    </tr>\n",
              "    <tr>\n",
              "      <th>50%</th>\n",
              "      <td>31579.000000</td>\n",
              "      <td>0.500000</td>\n",
              "      <td>1990.000000</td>\n",
              "      <td>43.000000</td>\n",
              "      <td>0.000000</td>\n",
              "      <td>103.000000</td>\n",
              "      <td>1500.945550</td>\n",
              "      <td>1500.954400</td>\n",
              "      <td>42.113357</td>\n",
              "      <td>103.000000</td>\n",
              "      <td>1500.945550</td>\n",
              "      <td>1500.954400</td>\n",
              "      <td>0.500000</td>\n",
              "    </tr>\n",
              "    <tr>\n",
              "      <th>75%</th>\n",
              "      <td>47368.000000</td>\n",
              "      <td>1.000000</td>\n",
              "      <td>2003.000000</td>\n",
              "      <td>65.000000</td>\n",
              "      <td>0.000000</td>\n",
              "      <td>112.000000</td>\n",
              "      <td>1576.060000</td>\n",
              "      <td>1576.291625</td>\n",
              "      <td>49.635328</td>\n",
              "      <td>112.000000</td>\n",
              "      <td>1576.060000</td>\n",
              "      <td>1576.291625</td>\n",
              "      <td>0.672011</td>\n",
              "    </tr>\n",
              "    <tr>\n",
              "      <th>max</th>\n",
              "      <td>63157.000000</td>\n",
              "      <td>1.000000</td>\n",
              "      <td>2015.000000</td>\n",
              "      <td>108.000000</td>\n",
              "      <td>1.000000</td>\n",
              "      <td>186.000000</td>\n",
              "      <td>1853.104500</td>\n",
              "      <td>1853.104500</td>\n",
              "      <td>71.112038</td>\n",
              "      <td>186.000000</td>\n",
              "      <td>1853.104500</td>\n",
              "      <td>1853.104500</td>\n",
              "      <td>0.979553</td>\n",
              "    </tr>\n",
              "  </tbody>\n",
              "</table>\n",
              "</div>"
            ],
            "text/plain": [
              "           gameorder        _iscopy  ...      opp_elo_n       forecast\n",
              "count  126314.000000  126314.000000  ...  126314.000000  126314.000000\n",
              "mean    31579.000000       0.500000  ...    1495.236055       0.500000\n",
              "std     18231.927643       0.500002  ...     112.461687       0.215252\n",
              "min         1.000000       0.000000  ...    1085.774400       0.020447\n",
              "25%     15790.000000       0.000000  ...    1416.994900       0.327989\n",
              "50%     31579.000000       0.500000  ...    1500.954400       0.500000\n",
              "75%     47368.000000       1.000000  ...    1576.291625       0.672011\n",
              "max     63157.000000       1.000000  ...    1853.104500       0.979553\n",
              "\n",
              "[8 rows x 13 columns]"
            ]
          },
          "metadata": {
            "tags": []
          },
          "execution_count": 9
        }
      ]
    },
    {
      "cell_type": "markdown",
      "metadata": {
        "id": "cFceeewZy9ko"
      },
      "source": [
        "Displaying of other data types i.e. columns with the datatype of ojects"
      ]
    },
    {
      "cell_type": "code",
      "metadata": {
        "colab": {
          "base_uri": "https://localhost:8080/",
          "height": 162
        },
        "id": "xW2ITScEzHoR",
        "outputId": "30307ac7-89ce-4607-a90a-1cd2e9ce8e2e"
      },
      "source": [
        "import numpy as np\n",
        "nba.describe(include = np.object)\n"
      ],
      "execution_count": 10,
      "outputs": [
        {
          "output_type": "execute_result",
          "data": {
            "text/html": [
              "<div>\n",
              "<style scoped>\n",
              "    .dataframe tbody tr th:only-of-type {\n",
              "        vertical-align: middle;\n",
              "    }\n",
              "\n",
              "    .dataframe tbody tr th {\n",
              "        vertical-align: top;\n",
              "    }\n",
              "\n",
              "    .dataframe thead th {\n",
              "        text-align: right;\n",
              "    }\n",
              "</style>\n",
              "<table border=\"1\" class=\"dataframe\">\n",
              "  <thead>\n",
              "    <tr style=\"text-align: right;\">\n",
              "      <th></th>\n",
              "      <th>game_id</th>\n",
              "      <th>lg_id</th>\n",
              "      <th>date_game</th>\n",
              "      <th>team_id</th>\n",
              "      <th>fran_id</th>\n",
              "      <th>opp_id</th>\n",
              "      <th>opp_fran</th>\n",
              "      <th>game_location</th>\n",
              "      <th>game_result</th>\n",
              "      <th>notes</th>\n",
              "    </tr>\n",
              "  </thead>\n",
              "  <tbody>\n",
              "    <tr>\n",
              "      <th>count</th>\n",
              "      <td>126314</td>\n",
              "      <td>126314</td>\n",
              "      <td>126314</td>\n",
              "      <td>126314</td>\n",
              "      <td>126314</td>\n",
              "      <td>126314</td>\n",
              "      <td>126314</td>\n",
              "      <td>126314</td>\n",
              "      <td>126314</td>\n",
              "      <td>5424</td>\n",
              "    </tr>\n",
              "    <tr>\n",
              "      <th>unique</th>\n",
              "      <td>63157</td>\n",
              "      <td>2</td>\n",
              "      <td>12426</td>\n",
              "      <td>104</td>\n",
              "      <td>53</td>\n",
              "      <td>104</td>\n",
              "      <td>53</td>\n",
              "      <td>3</td>\n",
              "      <td>2</td>\n",
              "      <td>231</td>\n",
              "    </tr>\n",
              "    <tr>\n",
              "      <th>top</th>\n",
              "      <td>196112120NYK</td>\n",
              "      <td>NBA</td>\n",
              "      <td>1/2/2009</td>\n",
              "      <td>BOS</td>\n",
              "      <td>Lakers</td>\n",
              "      <td>BOS</td>\n",
              "      <td>Lakers</td>\n",
              "      <td>H</td>\n",
              "      <td>L</td>\n",
              "      <td>at New York NY</td>\n",
              "    </tr>\n",
              "    <tr>\n",
              "      <th>freq</th>\n",
              "      <td>2</td>\n",
              "      <td>118016</td>\n",
              "      <td>30</td>\n",
              "      <td>5997</td>\n",
              "      <td>6024</td>\n",
              "      <td>5997</td>\n",
              "      <td>6024</td>\n",
              "      <td>63138</td>\n",
              "      <td>63157</td>\n",
              "      <td>440</td>\n",
              "    </tr>\n",
              "  </tbody>\n",
              "</table>\n",
              "</div>"
            ],
            "text/plain": [
              "             game_id   lg_id  ... game_result           notes\n",
              "count         126314  126314  ...      126314            5424\n",
              "unique         63157       2  ...           2             231\n",
              "top     196112120NYK     NBA  ...           L  at New York NY\n",
              "freq               2  118016  ...       63157             440\n",
              "\n",
              "[4 rows x 10 columns]"
            ]
          },
          "metadata": {
            "tags": []
          },
          "execution_count": 10
        }
      ]
    },
    {
      "cell_type": "markdown",
      "metadata": {
        "id": "6rUkw5zkmqg-"
      },
      "source": [
        "Examining how often specific values occur in a column: using column:\"team_id\""
      ]
    },
    {
      "cell_type": "code",
      "metadata": {
        "colab": {
          "base_uri": "https://localhost:8080/"
        },
        "id": "T_5L8_32m2jD",
        "outputId": "8b8cd929-b4cf-485b-f45b-4ce24f3e1c3e"
      },
      "source": [
        "nba[\"team_id\"].value_counts()"
      ],
      "execution_count": 12,
      "outputs": [
        {
          "output_type": "execute_result",
          "data": {
            "text/plain": [
              "BOS    5997\n",
              "NYK    5769\n",
              "LAL    5078\n",
              "DET    4985\n",
              "PHI    4533\n",
              "       ... \n",
              "INJ      60\n",
              "DTF      60\n",
              "TRH      60\n",
              "PIT      60\n",
              "SDS      11\n",
              "Name: team_id, Length: 104, dtype: int64"
            ]
          },
          "metadata": {
            "tags": []
          },
          "execution_count": 12
        }
      ]
    },
    {
      "cell_type": "markdown",
      "metadata": {
        "id": "KbHd7-PFn-XX"
      },
      "source": [
        "Using column: \"franc_id\""
      ]
    },
    {
      "cell_type": "code",
      "metadata": {
        "colab": {
          "base_uri": "https://localhost:8080/"
        },
        "id": "aHiIYXxDn-qq",
        "outputId": "7a9ced9b-58de-4c03-f6fe-edac733d3b1f"
      },
      "source": [
        "nba[\"fran_id\"].value_counts()"
      ],
      "execution_count": 14,
      "outputs": [
        {
          "output_type": "execute_result",
          "data": {
            "text/plain": [
              "Lakers          6024\n",
              "Celtics         5997\n",
              "Knicks          5769\n",
              "Warriors        5657\n",
              "Pistons         5650\n",
              "Sixers          5644\n",
              "Hawks           5572\n",
              "Kings           5475\n",
              "Wizards         4582\n",
              "Spurs           4309\n",
              "Bulls           4307\n",
              "Pacers          4227\n",
              "Thunder         4178\n",
              "Rockets         4154\n",
              "Nuggets         4120\n",
              "Nets            4106\n",
              "Suns            4080\n",
              "Bucks           4034\n",
              "Trailblazers    3870\n",
              "Cavaliers       3810\n",
              "Clippers        3733\n",
              "Jazz            3555\n",
              "Mavericks       3013\n",
              "Heat            2371\n",
              "Pelicans        2254\n",
              "Magic           2207\n",
              "Timberwolves    2131\n",
              "Grizzlies       1657\n",
              "Raptors         1634\n",
              "Hornets          894\n",
              "Colonels         846\n",
              "Squires          799\n",
              "Spirits          777\n",
              "Stars            756\n",
              "Sounds           697\n",
              "Baltimore        467\n",
              "Floridians       440\n",
              "Condors          430\n",
              "Capitols         291\n",
              "Olympians        282\n",
              "Sails            274\n",
              "Stags            260\n",
              "Bombers          249\n",
              "Steamrollers     168\n",
              "Packers           72\n",
              "Redskins          65\n",
              "Rebels            63\n",
              "Denver            62\n",
              "Waterloo          62\n",
              "Ironmen           60\n",
              "Falcons           60\n",
              "Huskies           60\n",
              "Jets              60\n",
              "Name: fran_id, dtype: int64"
            ]
          },
          "metadata": {
            "tags": []
          },
          "execution_count": 14
        }
      ]
    },
    {
      "cell_type": "markdown",
      "metadata": {
        "id": "hNIho08Uo1vl"
      },
      "source": [
        "We have Los Angeles Lakers & Minneapolis Lakers as diplayed below"
      ]
    },
    {
      "cell_type": "code",
      "metadata": {
        "colab": {
          "base_uri": "https://localhost:8080/"
        },
        "id": "py80zK7Vo2As",
        "outputId": "a17fac6a-192c-4854-9143-dafa736ae6d8"
      },
      "source": [
        "which_lakers = nba.loc[nba[\"fran_id\"] == \"Lakers\", \"team_id\"].value_counts()\n",
        "which_lakers"
      ],
      "execution_count": 15,
      "outputs": [
        {
          "output_type": "execute_result",
          "data": {
            "text/plain": [
              "LAL    5078\n",
              "MNL     946\n",
              "Name: team_id, dtype: int64"
            ]
          },
          "metadata": {
            "tags": []
          },
          "execution_count": 15
        }
      ]
    },
    {
      "cell_type": "markdown",
      "metadata": {
        "id": "cN47qCXEp524"
      },
      "source": [
        "Find out when Minneapolis lakers played 946 games as shown above"
      ]
    },
    {
      "cell_type": "code",
      "metadata": {
        "colab": {
          "base_uri": "https://localhost:8080/",
          "height": 35
        },
        "id": "gBBQUXTyp7BM",
        "outputId": "b46645b5-cec7-403b-b094-f9acb98b75eb"
      },
      "source": [
        "min_date = nba.loc[nba[\"team_id\"] == \"MNL\", \"date_game\"].min()\n",
        "\n",
        "min_date "
      ],
      "execution_count": 20,
      "outputs": [
        {
          "output_type": "execute_result",
          "data": {
            "application/vnd.google.colaboratory.intrinsic+json": {
              "type": "string"
            },
            "text/plain": [
              "'1/1/1949'"
            ]
          },
          "metadata": {
            "tags": []
          },
          "execution_count": 20
        }
      ]
    },
    {
      "cell_type": "code",
      "metadata": {
        "colab": {
          "base_uri": "https://localhost:8080/",
          "height": 35
        },
        "id": "LeeCIXnHst4b",
        "outputId": "67027193-3f02-4666-fd3c-5a4a52404183"
      },
      "source": [
        "max_date = nba.loc[nba[\"team_id\"] == \"MNL\", \"date_game\"].max()\n",
        "max_date"
      ],
      "execution_count": 27,
      "outputs": [
        {
          "output_type": "execute_result",
          "data": {
            "application/vnd.google.colaboratory.intrinsic+json": {
              "type": "string"
            },
            "text/plain": [
              "'4/9/1959'"
            ]
          },
          "metadata": {
            "tags": []
          },
          "execution_count": 27
        }
      ]
    },
    {
      "cell_type": "code",
      "metadata": {
        "colab": {
          "base_uri": "https://localhost:8080/"
        },
        "id": "yj3IkyKyrXjV",
        "outputId": "a17d5120-0cbf-4784-95f5-79fa2d7f17a3"
      },
      "source": [
        "nba.loc[nba[\"team_id\"] == \"MNL\", \"date_game\"].agg((\"min\", \"max\"))"
      ],
      "execution_count": 24,
      "outputs": [
        {
          "output_type": "execute_result",
          "data": {
            "text/plain": [
              "min    1/1/1949\n",
              "max    4/9/1959\n",
              "Name: date_game, dtype: object"
            ]
          },
          "metadata": {
            "tags": []
          },
          "execution_count": 24
        }
      ]
    },
    {
      "cell_type": "markdown",
      "metadata": {
        "id": "p30TraJHreHu"
      },
      "source": [
        "Minneaopolis played game between the years 1949 and 1959"
      ]
    },
    {
      "cell_type": "markdown",
      "metadata": {
        "id": "Egnk07TTtXu4"
      },
      "source": [
        "Why has Boston Celtics \"BOS\" played most games in the dataset?\n",
        "\n",
        "Will analyze their history, and find out how many points the BOS have scored in all matches."
      ]
    },
    {
      "cell_type": "code",
      "metadata": {
        "colab": {
          "base_uri": "https://localhost:8080/",
          "height": 411
        },
        "id": "K3rdSZQ3rdoI",
        "outputId": "1204478e-e176-4de8-d66f-2979e5e645d6"
      },
      "source": [
        "nba.loc[nba[\"team_id\"] == \"BOS\"]"
      ],
      "execution_count": 30,
      "outputs": [
        {
          "output_type": "execute_result",
          "data": {
            "text/html": [
              "<div>\n",
              "<style scoped>\n",
              "    .dataframe tbody tr th:only-of-type {\n",
              "        vertical-align: middle;\n",
              "    }\n",
              "\n",
              "    .dataframe tbody tr th {\n",
              "        vertical-align: top;\n",
              "    }\n",
              "\n",
              "    .dataframe thead th {\n",
              "        text-align: right;\n",
              "    }\n",
              "</style>\n",
              "<table border=\"1\" class=\"dataframe\">\n",
              "  <thead>\n",
              "    <tr style=\"text-align: right;\">\n",
              "      <th></th>\n",
              "      <th>gameorder</th>\n",
              "      <th>game_id</th>\n",
              "      <th>lg_id</th>\n",
              "      <th>_iscopy</th>\n",
              "      <th>year_id</th>\n",
              "      <th>date_game</th>\n",
              "      <th>seasongame</th>\n",
              "      <th>is_playoffs</th>\n",
              "      <th>team_id</th>\n",
              "      <th>fran_id</th>\n",
              "      <th>pts</th>\n",
              "      <th>elo_i</th>\n",
              "      <th>elo_n</th>\n",
              "      <th>win_equiv</th>\n",
              "      <th>opp_id</th>\n",
              "      <th>opp_fran</th>\n",
              "      <th>opp_pts</th>\n",
              "      <th>opp_elo_i</th>\n",
              "      <th>opp_elo_n</th>\n",
              "      <th>game_location</th>\n",
              "      <th>game_result</th>\n",
              "      <th>forecast</th>\n",
              "      <th>notes</th>\n",
              "    </tr>\n",
              "  </thead>\n",
              "  <tbody>\n",
              "    <tr>\n",
              "      <th>6</th>\n",
              "      <td>4</td>\n",
              "      <td>194611020PRO</td>\n",
              "      <td>NBA</td>\n",
              "      <td>1</td>\n",
              "      <td>1947</td>\n",
              "      <td>11/2/1946</td>\n",
              "      <td>1</td>\n",
              "      <td>0</td>\n",
              "      <td>BOS</td>\n",
              "      <td>Celtics</td>\n",
              "      <td>53</td>\n",
              "      <td>1300.0000</td>\n",
              "      <td>1294.8458</td>\n",
              "      <td>40.459381</td>\n",
              "      <td>PRO</td>\n",
              "      <td>Steamrollers</td>\n",
              "      <td>59</td>\n",
              "      <td>1300.0000</td>\n",
              "      <td>1305.1542</td>\n",
              "      <td>A</td>\n",
              "      <td>L</td>\n",
              "      <td>0.359935</td>\n",
              "      <td>NaN</td>\n",
              "    </tr>\n",
              "    <tr>\n",
              "      <th>14</th>\n",
              "      <td>8</td>\n",
              "      <td>194611050BOS</td>\n",
              "      <td>NBA</td>\n",
              "      <td>0</td>\n",
              "      <td>1947</td>\n",
              "      <td>11/5/1946</td>\n",
              "      <td>2</td>\n",
              "      <td>0</td>\n",
              "      <td>BOS</td>\n",
              "      <td>Celtics</td>\n",
              "      <td>55</td>\n",
              "      <td>1294.8458</td>\n",
              "      <td>1288.4139</td>\n",
              "      <td>39.785030</td>\n",
              "      <td>CHS</td>\n",
              "      <td>Stags</td>\n",
              "      <td>57</td>\n",
              "      <td>1309.6521</td>\n",
              "      <td>1316.0840</td>\n",
              "      <td>H</td>\n",
              "      <td>L</td>\n",
              "      <td>0.620204</td>\n",
              "      <td>NaN</td>\n",
              "    </tr>\n",
              "    <tr>\n",
              "      <th>28</th>\n",
              "      <td>15</td>\n",
              "      <td>194611090DTF</td>\n",
              "      <td>NBA</td>\n",
              "      <td>1</td>\n",
              "      <td>1947</td>\n",
              "      <td>11/9/1946</td>\n",
              "      <td>3</td>\n",
              "      <td>0</td>\n",
              "      <td>BOS</td>\n",
              "      <td>Celtics</td>\n",
              "      <td>46</td>\n",
              "      <td>1288.4139</td>\n",
              "      <td>1275.2767</td>\n",
              "      <td>38.410091</td>\n",
              "      <td>DTF</td>\n",
              "      <td>Falcons</td>\n",
              "      <td>69</td>\n",
              "      <td>1268.4468</td>\n",
              "      <td>1281.5840</td>\n",
              "      <td>A</td>\n",
              "      <td>L</td>\n",
              "      <td>0.386818</td>\n",
              "      <td>NaN</td>\n",
              "    </tr>\n",
              "    <tr>\n",
              "      <th>40</th>\n",
              "      <td>21</td>\n",
              "      <td>194611130CHS</td>\n",
              "      <td>NBA</td>\n",
              "      <td>1</td>\n",
              "      <td>1947</td>\n",
              "      <td>11/13/1946</td>\n",
              "      <td>4</td>\n",
              "      <td>0</td>\n",
              "      <td>BOS</td>\n",
              "      <td>Celtics</td>\n",
              "      <td>61</td>\n",
              "      <td>1275.2767</td>\n",
              "      <td>1269.8861</td>\n",
              "      <td>37.847424</td>\n",
              "      <td>CHS</td>\n",
              "      <td>Stags</td>\n",
              "      <td>71</td>\n",
              "      <td>1329.3558</td>\n",
              "      <td>1334.7465</td>\n",
              "      <td>A</td>\n",
              "      <td>L</td>\n",
              "      <td>0.291740</td>\n",
              "      <td>NaN</td>\n",
              "    </tr>\n",
              "    <tr>\n",
              "      <th>46</th>\n",
              "      <td>24</td>\n",
              "      <td>194611140STB</td>\n",
              "      <td>NBA</td>\n",
              "      <td>1</td>\n",
              "      <td>1947</td>\n",
              "      <td>11/14/1946</td>\n",
              "      <td>5</td>\n",
              "      <td>0</td>\n",
              "      <td>BOS</td>\n",
              "      <td>Celtics</td>\n",
              "      <td>62</td>\n",
              "      <td>1269.8861</td>\n",
              "      <td>1267.1501</td>\n",
              "      <td>37.562286</td>\n",
              "      <td>STB</td>\n",
              "      <td>Bombers</td>\n",
              "      <td>64</td>\n",
              "      <td>1305.7323</td>\n",
              "      <td>1308.4683</td>\n",
              "      <td>A</td>\n",
              "      <td>L</td>\n",
              "      <td>0.313890</td>\n",
              "      <td>NaN</td>\n",
              "    </tr>\n",
              "    <tr>\n",
              "      <th>...</th>\n",
              "      <td>...</td>\n",
              "      <td>...</td>\n",
              "      <td>...</td>\n",
              "      <td>...</td>\n",
              "      <td>...</td>\n",
              "      <td>...</td>\n",
              "      <td>...</td>\n",
              "      <td>...</td>\n",
              "      <td>...</td>\n",
              "      <td>...</td>\n",
              "      <td>...</td>\n",
              "      <td>...</td>\n",
              "      <td>...</td>\n",
              "      <td>...</td>\n",
              "      <td>...</td>\n",
              "      <td>...</td>\n",
              "      <td>...</td>\n",
              "      <td>...</td>\n",
              "      <td>...</td>\n",
              "      <td>...</td>\n",
              "      <td>...</td>\n",
              "      <td>...</td>\n",
              "      <td>...</td>\n",
              "    </tr>\n",
              "    <tr>\n",
              "      <th>126141</th>\n",
              "      <td>63071</td>\n",
              "      <td>201504150MIL</td>\n",
              "      <td>NBA</td>\n",
              "      <td>1</td>\n",
              "      <td>2015</td>\n",
              "      <td>4/15/2015</td>\n",
              "      <td>82</td>\n",
              "      <td>0</td>\n",
              "      <td>BOS</td>\n",
              "      <td>Celtics</td>\n",
              "      <td>105</td>\n",
              "      <td>1543.8622</td>\n",
              "      <td>1551.8619</td>\n",
              "      <td>45.939846</td>\n",
              "      <td>MIL</td>\n",
              "      <td>Bucks</td>\n",
              "      <td>100</td>\n",
              "      <td>1480.0674</td>\n",
              "      <td>1472.0676</td>\n",
              "      <td>A</td>\n",
              "      <td>W</td>\n",
              "      <td>0.448084</td>\n",
              "      <td>NaN</td>\n",
              "    </tr>\n",
              "    <tr>\n",
              "      <th>126162</th>\n",
              "      <td>63082</td>\n",
              "      <td>201504190CLE</td>\n",
              "      <td>NBA</td>\n",
              "      <td>1</td>\n",
              "      <td>2015</td>\n",
              "      <td>4/19/2015</td>\n",
              "      <td>83</td>\n",
              "      <td>1</td>\n",
              "      <td>BOS</td>\n",
              "      <td>Celtics</td>\n",
              "      <td>100</td>\n",
              "      <td>1551.8619</td>\n",
              "      <td>1546.2174</td>\n",
              "      <td>45.355377</td>\n",
              "      <td>CLE</td>\n",
              "      <td>Cavaliers</td>\n",
              "      <td>113</td>\n",
              "      <td>1630.6193</td>\n",
              "      <td>1636.2638</td>\n",
              "      <td>A</td>\n",
              "      <td>L</td>\n",
              "      <td>0.263276</td>\n",
              "      <td>NaN</td>\n",
              "    </tr>\n",
              "    <tr>\n",
              "      <th>126173</th>\n",
              "      <td>63087</td>\n",
              "      <td>201504210CLE</td>\n",
              "      <td>NBA</td>\n",
              "      <td>1</td>\n",
              "      <td>2015</td>\n",
              "      <td>4/21/2015</td>\n",
              "      <td>84</td>\n",
              "      <td>1</td>\n",
              "      <td>BOS</td>\n",
              "      <td>Celtics</td>\n",
              "      <td>91</td>\n",
              "      <td>1546.2174</td>\n",
              "      <td>1542.2632</td>\n",
              "      <td>44.944851</td>\n",
              "      <td>CLE</td>\n",
              "      <td>Cavaliers</td>\n",
              "      <td>99</td>\n",
              "      <td>1636.2638</td>\n",
              "      <td>1640.2180</td>\n",
              "      <td>A</td>\n",
              "      <td>L</td>\n",
              "      <td>0.250867</td>\n",
              "      <td>NaN</td>\n",
              "    </tr>\n",
              "    <tr>\n",
              "      <th>126185</th>\n",
              "      <td>63093</td>\n",
              "      <td>201504230BOS</td>\n",
              "      <td>NBA</td>\n",
              "      <td>0</td>\n",
              "      <td>2015</td>\n",
              "      <td>4/23/2015</td>\n",
              "      <td>85</td>\n",
              "      <td>1</td>\n",
              "      <td>BOS</td>\n",
              "      <td>Celtics</td>\n",
              "      <td>95</td>\n",
              "      <td>1542.2632</td>\n",
              "      <td>1533.1155</td>\n",
              "      <td>43.992210</td>\n",
              "      <td>CLE</td>\n",
              "      <td>Cavaliers</td>\n",
              "      <td>103</td>\n",
              "      <td>1640.2180</td>\n",
              "      <td>1649.3657</td>\n",
              "      <td>H</td>\n",
              "      <td>L</td>\n",
              "      <td>0.502943</td>\n",
              "      <td>NaN</td>\n",
              "    </tr>\n",
              "    <tr>\n",
              "      <th>126205</th>\n",
              "      <td>63103</td>\n",
              "      <td>201504260BOS</td>\n",
              "      <td>NBA</td>\n",
              "      <td>0</td>\n",
              "      <td>2015</td>\n",
              "      <td>4/26/2015</td>\n",
              "      <td>86</td>\n",
              "      <td>1</td>\n",
              "      <td>BOS</td>\n",
              "      <td>Celtics</td>\n",
              "      <td>93</td>\n",
              "      <td>1533.1155</td>\n",
              "      <td>1524.5715</td>\n",
              "      <td>43.099480</td>\n",
              "      <td>CLE</td>\n",
              "      <td>Cavaliers</td>\n",
              "      <td>101</td>\n",
              "      <td>1649.3657</td>\n",
              "      <td>1657.9097</td>\n",
              "      <td>H</td>\n",
              "      <td>L</td>\n",
              "      <td>0.476631</td>\n",
              "      <td>NaN</td>\n",
              "    </tr>\n",
              "  </tbody>\n",
              "</table>\n",
              "<p>5997 rows × 23 columns</p>\n",
              "</div>"
            ],
            "text/plain": [
              "        gameorder       game_id lg_id  ...  game_result  forecast notes\n",
              "6               4  194611020PRO   NBA  ...            L  0.359935   NaN\n",
              "14              8  194611050BOS   NBA  ...            L  0.620204   NaN\n",
              "28             15  194611090DTF   NBA  ...            L  0.386818   NaN\n",
              "40             21  194611130CHS   NBA  ...            L  0.291740   NaN\n",
              "46             24  194611140STB   NBA  ...            L  0.313890   NaN\n",
              "...           ...           ...   ...  ...          ...       ...   ...\n",
              "126141      63071  201504150MIL   NBA  ...            W  0.448084   NaN\n",
              "126162      63082  201504190CLE   NBA  ...            L  0.263276   NaN\n",
              "126173      63087  201504210CLE   NBA  ...            L  0.250867   NaN\n",
              "126185      63093  201504230BOS   NBA  ...            L  0.502943   NaN\n",
              "126205      63103  201504260BOS   NBA  ...            L  0.476631   NaN\n",
              "\n",
              "[5997 rows x 23 columns]"
            ]
          },
          "metadata": {
            "tags": []
          },
          "execution_count": 30
        }
      ]
    },
    {
      "cell_type": "markdown",
      "metadata": {
        "id": "1MZj3pCbu6IX"
      },
      "source": [
        "Points scored by BOS in all matches"
      ]
    },
    {
      "cell_type": "code",
      "metadata": {
        "colab": {
          "base_uri": "https://localhost:8080/"
        },
        "id": "Upuan-6vuujW",
        "outputId": "2e1574d0-c6c7-4c03-825e-e79e673662e8"
      },
      "source": [
        "nba.loc[nba[\"team_id\"] == \"BOS\", \"pts\"].sum()"
      ],
      "execution_count": 31,
      "outputs": [
        {
          "output_type": "execute_result",
          "data": {
            "text/plain": [
              "626484"
            ]
          },
          "metadata": {
            "tags": []
          },
          "execution_count": 31
        }
      ]
    }
  ]
}